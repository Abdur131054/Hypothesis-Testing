{
 "cells": [
  {
   "cell_type": "markdown",
   "metadata": {},
   "source": [
    "# 1)Marketing team from Xyz company wants to launch a product to the market. Their initial results shows the average salary of the people in x place is 50,000 taka which is their target customer. To prove their hypothesis they collected 20 different samples. Now let's run a hypothesis test to prove their statement.\n",
    "\n",
    "So we need to.\n",
    "\n",
    "1. Clearly define null and alternate hypothesis.\n",
    "2. Run a statistical test.\n",
    "3. Show the p value.\n",
    "4. Prove the statement.\n",
    "\n",
    "Average salary from 20 samples:\n",
    "\n",
    "sample= [40000,45000,35000,60000,34000,15000,56000,44000,67000,34000,45000,34000,45000,90000,45000,45000,37000,45000,42000,55000,50000]\n",
    "\n",
    " confidense interval is 95%"
   ]
  },
  {
   "cell_type": "markdown",
   "metadata": {},
   "source": [
    "# Null Hypothesis (H0): The average salary of the people in x place is not 50,000\n",
    "# Alternate Hypothesis (HA): The average salary of the people in x place is 50,000"
   ]
  },
  {
   "cell_type": "code",
   "execution_count": 1,
   "metadata": {},
   "outputs": [],
   "source": [
    "#importing necessary libraries\n",
    "import scipy.stats as stats\n",
    "import math \n",
    "%matplotlib inline"
   ]
  },
  {
   "cell_type": "code",
   "execution_count": 2,
   "metadata": {},
   "outputs": [
    {
     "name": "stdout",
     "output_type": "stream",
     "text": [
      "Average sallary of population  47047.619047619046\n",
      "Average sallary of Sample  45857.142857142855\n"
     ]
    },
    {
     "data": {
      "text/plain": [
       "Ttest_1sampResult(statistic=-0.3667006002656119, pvalue=0.7176933249465037)"
      ]
     },
     "execution_count": 2,
     "metadata": {},
     "output_type": "execute_result"
    }
   ],
   "source": [
    "population= [30000, 45000, 55000,65000,70000,25000,20000,37000,67000,38000,67000,55000,54000,18000,57000,120000,12000,22000,65000, 32000,34000]\n",
    "sample= [40000,45000,35000,60000,34000,15000,56000,44000,67000,34000,45000,34000,45000,90000,45000,45000,37000,45000,42000,55000,50000]\n",
    "from statistics import mean\n",
    "print( 'Average sallary of population ', mean(population))\n",
    "print('Average sallary of Sample ', mean(sample))\n",
    "stats.ttest_1samp(a=sample, popmean=mean(population))"
   ]
  },
  {
   "cell_type": "markdown",
   "metadata": {},
   "source": [
    "hence confidence interval is 95% so, p value should be less then or equal 0.05 but reslted P-value is 0.7177 means p value is greater than 0.05 ,So we can not reject null Hypothesis. So statement provided by marketing team is not proven"
   ]
  },
  {
   "cell_type": "markdown",
   "metadata": {},
   "source": [
    "# 2) Suppose we want to test if a particular drug is effective to reduce weight. Now we have to test our hypothesis to prove our statement.\n",
    "\n",
    "sample before drug test= [302.48364224, 241.4178101 , 235.46304603, 170.40044322,\n",
    "       249.75146112, 240.41105909, 233.90111913, 259.46208005,\n",
    "       262.63152149, 218.03191059, 223.4128099 , 235.72799522,\n",
    "       270.69046931, 266.83576528, 210.83354471, 216.41574215,\n",
    "       272.10512174, 297.23902219, 249.06774735, 229.49660118,\n",
    "       282.86889096, 240.71270088, 271.77256674, 296.472149  ,\n",
    "       268.90239467, 252.20479711, 271.96814062, 230.72273823,\n",
    "       244.65720474, 232.78136322]\n",
    "\n",
    "sample after drug test= [300.21176566, 237.73533459, 233.28416941, 167.24776114,\n",
    "       248.9463493 , 239.47941739, 234.13285467, 265.22593565,\n",
    "       253.64720865, 223.26000351, 220.97655767, 228.31626419,\n",
    "       268.57837047, 266.04495716, 214.92133699, 209.85756991,\n",
    "       271.94186278, 296.57811971, 239.39719288, 222.31782485,\n",
    "       284.61940098, 242.94053716, 275.96112104, 297.89125758,\n",
    "       269.62845474, 251.56913476, 276.76364883, 225.25740772,\n",
    "       242.69773684, 233.45813391]\n",
    "\n",
    "we need to.\n",
    "\n",
    "1. Clearly define null and alternate hypothesis.\n",
    "2. Run a statistical test.\n",
    "3. Show the p value.\n",
    "4. Prove our statement.\n",
    "\n",
    "consider confidense interval is 90%\n"
   ]
  },
  {
   "cell_type": "markdown",
   "metadata": {},
   "source": [
    "# Null Hypothesis (H0): There is no relationship between drug and Weight\n",
    "# Alternate Hypothesis (HA): Drug is effective to Reduce weight"
   ]
  },
  {
   "cell_type": "code",
   "execution_count": 3,
   "metadata": {},
   "outputs": [],
   "source": [
    "alpha= 0.1\n",
    "sample_before_drug_test= [302.48364224, 241.4178101 , 235.46304603, 170.40044322, 249.75146112, 240.41105909, 233.90111913, 259.46208005, 262.63152149, 218.03191059, 223.4128099 , 235.72799522, 270.69046931, 266.83576528, 210.83354471, 216.41574215, 272.10512174, 297.23902219, 249.06774735, 229.49660118, 282.86889096, 240.71270088, 271.77256674, 296.472149 , 268.90239467, 252.20479711, 271.96814062, 230.72273823, 244.65720474, 232.78136322]\n",
    "sample_after_drug_test=[300.21176566, 237.73533459, 233.28416941, 167.24776114, 248.9463493 , 239.47941739, 234.13285467, 265.22593565, 253.64720865, 223.26000351, 220.97655767, 228.31626419, 268.57837047, 266.04495716, 214.92133699, 209.85756991, 271.94186278, 296.57811971, 239.39719288, 222.31782485, 284.61940098, 242.94053716, 275.96112104, 297.89125758, 269.62845474, 251.56913476, 276.76364883, 225.25740772, 242.69773684, 233.45813391]"
   ]
  },
  {
   "cell_type": "code",
   "execution_count": 4,
   "metadata": {},
   "outputs": [
    {
     "name": "stdout",
     "output_type": "stream",
     "text": [
      "Test statistics is 1.596886\n",
      "p-value for one_tailed_test is 0.060566\n",
      "Conclusion: Hence p_value(=0.060566) <alpha(=0.10) We reject the null hypothesis H0\n",
      "    So, wc can conclude that drug is effective to reduce weight\n"
     ]
    }
   ],
   "source": [
    "t_value, p_value=stats.ttest_rel(sample_before_drug_test,sample_after_drug_test )\n",
    "one_tailed_p_value=float(\"{:.6f}\".format(p_value/2))\n",
    "print('Test statistics is %f'%float(\"{:.6f}\".format(t_value)))\n",
    "print('p-value for one_tailed_test is %f'%one_tailed_p_value)\n",
    "alpha=0.1\n",
    "if one_tailed_p_value<=alpha:\n",
    "    print('Conclusion:','Hence p_value(=%f)'%one_tailed_p_value,'<' 'alpha(=%.2f)'%alpha,'''We reject the null hypothesis H0\n",
    "    So, wc can conclude that drug is effective to reduce weight''')\n",
    "else:\n",
    "    print('Conclusion:','Hence p_value(=%f)'%one_tailed_p_value,'>' 'alpha(=%.2f)'%alpha,'''We can not reject the null hypothesis H0\n",
    "    So, wc can conclude that drug is not effective to reduce weight ,that means there is no relationship between drug and weight''')"
   ]
  },
  {
   "cell_type": "code",
   "execution_count": null,
   "metadata": {},
   "outputs": [],
   "source": []
  }
 ],
 "metadata": {
  "kernelspec": {
   "display_name": "Python 3 (ipykernel)",
   "language": "python",
   "name": "python3"
  },
  "language_info": {
   "codemirror_mode": {
    "name": "ipython",
    "version": 3
   },
   "file_extension": ".py",
   "mimetype": "text/x-python",
   "name": "python",
   "nbconvert_exporter": "python",
   "pygments_lexer": "ipython3",
   "version": "3.9.12"
  },
  "vscode": {
   "interpreter": {
    "hash": "2043299c89c8cd0b4d1a6f5cf4529bd58e6a4e0fe3181a25e0d328c821cdc5c5"
   }
  }
 },
 "nbformat": 4,
 "nbformat_minor": 2
}
